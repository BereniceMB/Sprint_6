{
 "cells": [
  {
   "cell_type": "markdown",
   "id": "25268084",
   "metadata": {},
   "source": [
    "### <span style=color:red><b>Sprint 6</b></span> "
   ]
  },
  {
   "cell_type": "markdown",
   "id": "897053bf",
   "metadata": {},
   "source": [
    "### <span style=color:blue><b>Nivell 1</b></span> \n",
    "- [X] __Exercici 1:__\n",
    "Agafa un conjunt de dades de tema esportiu que t'agradi i selecciona un atribut del conjunt de dades. Calcula la moda, la mediana, la desviació estàndard i la mitjana aritmètica.\n",
    "- [X] __Exercici 2:__\n",
    "Continuant amb les dades de tema esportiu, selecciona dos atributs i calcula'n la seva correlació. "
   ]
  },
  {
   "cell_type": "code",
   "execution_count": 2,
   "id": "5b2d2a4b",
   "metadata": {},
   "outputs": [
    {
     "name": "stdout",
     "output_type": "stream",
     "text": [
      "<class 'pandas.core.frame.DataFrame'>\n",
      "RangeIndex: 10160 entries, 0 to 10159\n",
      "Data columns (total 1 columns):\n",
      " #   Column         Non-Null Count  Dtype  \n",
      "---  ------         --------------  -----  \n",
      " 0   match_minutes  10117 non-null  float64\n",
      "dtypes: float64(1)\n",
      "memory usage: 79.5 KB\n"
     ]
    },
    {
     "data": {
      "text/html": [
       "<div>\n",
       "<style scoped>\n",
       "    .dataframe tbody tr th:only-of-type {\n",
       "        vertical-align: middle;\n",
       "    }\n",
       "\n",
       "    .dataframe tbody tr th {\n",
       "        vertical-align: top;\n",
       "    }\n",
       "\n",
       "    .dataframe thead th {\n",
       "        text-align: right;\n",
       "    }\n",
       "</style>\n",
       "<table border=\"1\" class=\"dataframe\">\n",
       "  <thead>\n",
       "    <tr style=\"text-align: right;\">\n",
       "      <th></th>\n",
       "      <th>match_minutes</th>\n",
       "    </tr>\n",
       "  </thead>\n",
       "  <tbody>\n",
       "    <tr>\n",
       "      <th>count</th>\n",
       "      <td>10117.000000</td>\n",
       "    </tr>\n",
       "    <tr>\n",
       "      <th>mean</th>\n",
       "      <td>142.343284</td>\n",
       "    </tr>\n",
       "    <tr>\n",
       "      <th>std</th>\n",
       "      <td>52.397425</td>\n",
       "    </tr>\n",
       "    <tr>\n",
       "      <th>min</th>\n",
       "      <td>0.000000</td>\n",
       "    </tr>\n",
       "    <tr>\n",
       "      <th>25%</th>\n",
       "      <td>108.000000</td>\n",
       "    </tr>\n",
       "    <tr>\n",
       "      <th>50%</th>\n",
       "      <td>138.000000</td>\n",
       "    </tr>\n",
       "    <tr>\n",
       "      <th>75%</th>\n",
       "      <td>176.000000</td>\n",
       "    </tr>\n",
       "    <tr>\n",
       "      <th>max</th>\n",
       "      <td>665.000000</td>\n",
       "    </tr>\n",
       "  </tbody>\n",
       "</table>\n",
       "</div>"
      ],
      "text/plain": [
       "       match_minutes\n",
       "count   10117.000000\n",
       "mean      142.343284\n",
       "std        52.397425\n",
       "min         0.000000\n",
       "25%       108.000000\n",
       "50%       138.000000\n",
       "75%       176.000000\n",
       "max       665.000000"
      ]
     },
     "execution_count": 2,
     "metadata": {},
     "output_type": "execute_result"
    }
   ],
   "source": [
    "import pandas as pd\n",
    "import numpy as np\n",
    "import random\n",
    "\n",
    "db = pd.read_csv('Match.csv')\n",
    "db_1 = db[['match_minutes']].copy()\n",
    "db_1.dropna\n",
    "db_1.info()\n",
    "db_1.describe()"
   ]
  },
  {
   "cell_type": "code",
   "execution_count": 3,
   "id": "22e72711",
   "metadata": {},
   "outputs": [
    {
     "name": "stdout",
     "output_type": "stream",
     "text": [
      "match_minutes\n",
      "0.0              255\n",
      "111.0            107\n",
      "118.0            107\n",
      "116.0            104\n",
      "110.0            102\n",
      "                ... \n",
      "289.0              1\n",
      "16.0               1\n",
      "292.0              1\n",
      "13.0               1\n",
      "665.0              1\n",
      "Length: 305, dtype: int64\n"
     ]
    }
   ],
   "source": [
    "print(db_1.value_counts())"
   ]
  },
  {
   "cell_type": "markdown",
   "id": "f6515ddf",
   "metadata": {},
   "source": [
    "Al darme cuenta de que había muchos partidos de 0 minutos, decidí eliminarlos de la base de datos para tener una idea real de los partidos."
   ]
  },
  {
   "cell_type": "code",
   "execution_count": 4,
   "id": "81aa1f06",
   "metadata": {},
   "outputs": [],
   "source": [
    "db_2 = db_1.drop(db_1[db_1['match_minutes']==0.0].index)"
   ]
  },
  {
   "cell_type": "markdown",
   "id": "d6fc5a02",
   "metadata": {},
   "source": [
    "_______"
   ]
  },
  {
   "cell_type": "markdown",
   "id": "d5d85819",
   "metadata": {},
   "source": [
    "## __Ejercicio 1__"
   ]
  },
  {
   "cell_type": "markdown",
   "id": "f3256aea",
   "metadata": {},
   "source": [
    "__Para la moda hacemos lo siguiente:__"
   ]
  },
  {
   "cell_type": "code",
   "execution_count": 6,
   "id": "2feb2938",
   "metadata": {},
   "outputs": [
    {
     "name": "stdout",
     "output_type": "stream",
     "text": [
      "La moda del tiempo en minutos de los partidos es:\n",
      "\n"
     ]
    },
    {
     "data": {
      "text/plain": [
       "0    111.0\n",
       "1    118.0\n",
       "dtype: float64"
      ]
     },
     "execution_count": 6,
     "metadata": {},
     "output_type": "execute_result"
    }
   ],
   "source": [
    "print('La moda del tiempo en minutos de los partidos es:\\n')\n",
    "db_2['match_minutes'].mode()"
   ]
  },
  {
   "cell_type": "markdown",
   "id": "f0c0d501",
   "metadata": {},
   "source": [
    "__Para la mediana hacemos lo siguiente:__"
   ]
  },
  {
   "cell_type": "code",
   "execution_count": 7,
   "id": "5e9c47c1",
   "metadata": {},
   "outputs": [
    {
     "name": "stdout",
     "output_type": "stream",
     "text": [
      "La mediana del tiempo de los partidos es:  139.0 minutos.\n"
     ]
    }
   ],
   "source": [
    "print('La mediana del tiempo de los partidos es: ', db_2['match_minutes'].median(), 'minutos.')"
   ]
  },
  {
   "cell_type": "markdown",
   "id": "98a5db4c",
   "metadata": {},
   "source": [
    "__Para la desviación estándar hacemos lo siguiente:__"
   ]
  },
  {
   "cell_type": "code",
   "execution_count": 9,
   "id": "c83f3d5a",
   "metadata": {},
   "outputs": [
    {
     "name": "stdout",
     "output_type": "stream",
     "text": [
      "La desviación estándar del tiempo de los partidos es:  47.74\n"
     ]
    }
   ],
   "source": [
    "print('La desviación estándar del tiempo de los partidos es: ', round(db_2['match_minutes'].std(),2))"
   ]
  },
  {
   "cell_type": "markdown",
   "id": "e74db636",
   "metadata": {},
   "source": [
    "__Para la media aritmética hacemos lo siguiente:__"
   ]
  },
  {
   "cell_type": "code",
   "execution_count": 10,
   "id": "18449790",
   "metadata": {},
   "outputs": [
    {
     "name": "stdout",
     "output_type": "stream",
     "text": [
      "La media aritmética del tiempo en minutos de los partidos es:  146.02 minutos.\n"
     ]
    }
   ],
   "source": [
    "print('La media aritmética del tiempo en minutos de los partidos es: ', round(db_2['match_minutes'].mean(),2), 'minutos.')"
   ]
  },
  {
   "cell_type": "markdown",
   "id": "4af878db",
   "metadata": {},
   "source": [
    "_______"
   ]
  },
  {
   "cell_type": "markdown",
   "id": "f951f245",
   "metadata": {},
   "source": [
    "## __Ejercicio 2__"
   ]
  },
  {
   "cell_type": "code",
   "execution_count": 11,
   "id": "a25551b9",
   "metadata": {},
   "outputs": [
    {
     "name": "stdout",
     "output_type": "stream",
     "text": [
      "      avg_minutes_game  avg_minutes_set\n",
      "4378              3.88             31.0\n",
      "813               4.73             47.3\n",
      "6016              4.53             45.3\n",
      "5781              3.71             31.5\n",
      "8800              4.71             48.3\n"
     ]
    },
    {
     "data": {
      "text/html": [
       "<div>\n",
       "<style scoped>\n",
       "    .dataframe tbody tr th:only-of-type {\n",
       "        vertical-align: middle;\n",
       "    }\n",
       "\n",
       "    .dataframe tbody tr th {\n",
       "        vertical-align: top;\n",
       "    }\n",
       "\n",
       "    .dataframe thead th {\n",
       "        text-align: right;\n",
       "    }\n",
       "</style>\n",
       "<table border=\"1\" class=\"dataframe\">\n",
       "  <thead>\n",
       "    <tr style=\"text-align: right;\">\n",
       "      <th></th>\n",
       "      <th>avg_minutes_game</th>\n",
       "      <th>avg_minutes_set</th>\n",
       "    </tr>\n",
       "  </thead>\n",
       "  <tbody>\n",
       "    <tr>\n",
       "      <th>count</th>\n",
       "      <td>10114.000000</td>\n",
       "      <td>10078.000000</td>\n",
       "    </tr>\n",
       "    <tr>\n",
       "      <th>mean</th>\n",
       "      <td>4.058700</td>\n",
       "      <td>39.223477</td>\n",
       "    </tr>\n",
       "    <tr>\n",
       "      <th>std</th>\n",
       "      <td>0.890068</td>\n",
       "      <td>10.129553</td>\n",
       "    </tr>\n",
       "    <tr>\n",
       "      <th>min</th>\n",
       "      <td>0.000000</td>\n",
       "      <td>0.000000</td>\n",
       "    </tr>\n",
       "    <tr>\n",
       "      <th>25%</th>\n",
       "      <td>3.730000</td>\n",
       "      <td>34.400000</td>\n",
       "    </tr>\n",
       "    <tr>\n",
       "      <th>50%</th>\n",
       "      <td>4.110000</td>\n",
       "      <td>39.300000</td>\n",
       "    </tr>\n",
       "    <tr>\n",
       "      <th>75%</th>\n",
       "      <td>4.500000</td>\n",
       "      <td>44.700000</td>\n",
       "    </tr>\n",
       "    <tr>\n",
       "      <th>max</th>\n",
       "      <td>21.500000</td>\n",
       "      <td>133.000000</td>\n",
       "    </tr>\n",
       "  </tbody>\n",
       "</table>\n",
       "</div>"
      ],
      "text/plain": [
       "       avg_minutes_game  avg_minutes_set\n",
       "count      10114.000000     10078.000000\n",
       "mean           4.058700        39.223477\n",
       "std            0.890068        10.129553\n",
       "min            0.000000         0.000000\n",
       "25%            3.730000        34.400000\n",
       "50%            4.110000        39.300000\n",
       "75%            4.500000        44.700000\n",
       "max           21.500000       133.000000"
      ]
     },
     "execution_count": 11,
     "metadata": {},
     "output_type": "execute_result"
    }
   ],
   "source": [
    "db_3 = db[['avg_minutes_game','avg_minutes_set']].copy()\n",
    "db_3.dropna\n",
    "print(db_3.sample(5))\n",
    "db_3.describe()\n"
   ]
  },
  {
   "cell_type": "code",
   "execution_count": 12,
   "id": "e183bcea",
   "metadata": {},
   "outputs": [
    {
     "name": "stdout",
     "output_type": "stream",
     "text": [
      "La correlación entre las medias de los minutos de juego y sets es:\n"
     ]
    },
    {
     "data": {
      "text/html": [
       "<div>\n",
       "<style scoped>\n",
       "    .dataframe tbody tr th:only-of-type {\n",
       "        vertical-align: middle;\n",
       "    }\n",
       "\n",
       "    .dataframe tbody tr th {\n",
       "        vertical-align: top;\n",
       "    }\n",
       "\n",
       "    .dataframe thead th {\n",
       "        text-align: right;\n",
       "    }\n",
       "</style>\n",
       "<table border=\"1\" class=\"dataframe\">\n",
       "  <thead>\n",
       "    <tr style=\"text-align: right;\">\n",
       "      <th></th>\n",
       "      <th>avg_minutes_game</th>\n",
       "      <th>avg_minutes_set</th>\n",
       "    </tr>\n",
       "  </thead>\n",
       "  <tbody>\n",
       "    <tr>\n",
       "      <th>avg_minutes_game</th>\n",
       "      <td>1.000000</td>\n",
       "      <td>0.867337</td>\n",
       "    </tr>\n",
       "    <tr>\n",
       "      <th>avg_minutes_set</th>\n",
       "      <td>0.867337</td>\n",
       "      <td>1.000000</td>\n",
       "    </tr>\n",
       "  </tbody>\n",
       "</table>\n",
       "</div>"
      ],
      "text/plain": [
       "                  avg_minutes_game  avg_minutes_set\n",
       "avg_minutes_game          1.000000         0.867337\n",
       "avg_minutes_set           0.867337         1.000000"
      ]
     },
     "execution_count": 12,
     "metadata": {},
     "output_type": "execute_result"
    }
   ],
   "source": [
    "print('La correlación entre las medias de los minutos de juego y sets es:')\n",
    "db_3.corr(method='pearson')"
   ]
  },
  {
   "cell_type": "markdown",
   "id": "b3866570",
   "metadata": {},
   "source": [
    "*******"
   ]
  },
  {
   "cell_type": "markdown",
   "id": "d97eaef5",
   "metadata": {},
   "source": [
    "### <span style=color:blue><b>Nivell 2</b></span> \n",
    "- [ ] __Exercici 3:__\n",
    "Continuant amb les dades de tema esportiu, calcula la correlació de tots els atributs entre sí i representa'ls en una matriu amb diferents colors d'intensitat."
   ]
  },
  {
   "cell_type": "markdown",
   "id": "d092ac6d",
   "metadata": {},
   "source": [
    "### <span style=color:blue><b>Nivell 3</b></span> \n",
    "- [ ] __Exercici 4:__\n",
    "Continuant amb les dades de tema esportiu, selecciona un atribut i calcula la mitjana geomètrica i la mitjana harmònica."
   ]
  }
 ],
 "metadata": {
  "kernelspec": {
   "display_name": "Python 3 (ipykernel)",
   "language": "python",
   "name": "python3"
  },
  "language_info": {
   "codemirror_mode": {
    "name": "ipython",
    "version": 3
   },
   "file_extension": ".py",
   "mimetype": "text/x-python",
   "name": "python",
   "nbconvert_exporter": "python",
   "pygments_lexer": "ipython3",
   "version": "3.9.7"
  }
 },
 "nbformat": 4,
 "nbformat_minor": 5
}
